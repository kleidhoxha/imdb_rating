{
 "cells": [
  {
   "cell_type": "markdown",
   "metadata": {},
   "source": [
    "# IMDB URL to Dataframe\n",
    "The files used to load the datasets are not included in this repository.\n",
    "The datasets can be downloaded from the following link:\n",
    "- hhttps://datasets.imdbws.com/\n",
    "## Libraries"
   ]
  },
  {
   "cell_type": "code",
   "execution_count": 1,
   "metadata": {},
   "outputs": [],
   "source": [
    "import pandas as pd"
   ]
  },
  {
   "cell_type": "markdown",
   "metadata": {},
   "source": [
    "## Create"
   ]
  },
  {
   "cell_type": "code",
   "execution_count": 2,
   "metadata": {},
   "outputs": [
    {
     "name": "stdout",
     "output_type": "stream",
     "text": [
      "      tconst parentTconst seasonNumber episodeNumber\n",
      "0  tt0041951    tt0041038            1             9\n",
      "1  tt0042816    tt0989125            1            17\n",
      "2  tt0042889    tt0989125           \\N            \\N\n",
      "3  tt0043426    tt0040051            3            42\n",
      "4  tt0043631    tt0989125            2            16\n"
     ]
    }
   ],
   "source": [
    "# Path to your .tsv.gz file\n",
    "file_path = 'Title Episode Data.tsv.gz'\n",
    "\n",
    "# Read the .tsv.gz file into a DataFrame\n",
    "df1 = pd.read_csv(file_path, sep='\\t', compression='gzip')\n",
    "\n",
    "# Display the first few rows of the DataFrame\n",
    "print(df1.head())"
   ]
  },
  {
   "cell_type": "code",
   "execution_count": 3,
   "metadata": {},
   "outputs": [
    {
     "name": "stdout",
     "output_type": "stream",
     "text": [
      "      tconst  averageRating  numVotes\n",
      "0  tt0000001            5.7      2058\n",
      "1  tt0000002            5.7       276\n",
      "2  tt0000003            6.5      2015\n",
      "3  tt0000004            5.4       179\n",
      "4  tt0000005            6.2      2784\n"
     ]
    }
   ],
   "source": [
    "# Path to your .tsv.gz file\n",
    "file_path = 'IMDb title ratings.tsv.gz'\n",
    "\n",
    "# Read the .tsv.gz file into a DataFrame\n",
    "df2 = pd.read_csv(file_path, sep='\\t', compression='gzip')\n",
    "\n",
    "# Display the first few rows of the DataFrame\n",
    "print(df2.head())"
   ]
  },
  {
   "cell_type": "code",
   "execution_count": 4,
   "metadata": {},
   "outputs": [
    {
     "name": "stderr",
     "output_type": "stream",
     "text": [
      "/var/folders/rm/dnyhsnfd6ll4tl6sg03cj7t80000gn/T/ipykernel_31808/1398456217.py:5: DtypeWarning: Columns (4) have mixed types. Specify dtype option on import or set low_memory=False.\n",
      "  df3 = pd.read_csv(file_path, sep='\\t', compression='gzip')\n"
     ]
    },
    {
     "name": "stdout",
     "output_type": "stream",
     "text": [
      "      tconst titleType            primaryTitle           originalTitle  \\\n",
      "0  tt0000001     short              Carmencita              Carmencita   \n",
      "1  tt0000002     short  Le clown et ses chiens  Le clown et ses chiens   \n",
      "2  tt0000003     short          Pauvre Pierrot          Pauvre Pierrot   \n",
      "3  tt0000004     short             Un bon bock             Un bon bock   \n",
      "4  tt0000005     short        Blacksmith Scene        Blacksmith Scene   \n",
      "\n",
      "  isAdult startYear endYear runtimeMinutes                    genres  \n",
      "0       0      1894      \\N              1         Documentary,Short  \n",
      "1       0      1892      \\N              5           Animation,Short  \n",
      "2       0      1892      \\N              5  Animation,Comedy,Romance  \n",
      "3       0      1892      \\N             12           Animation,Short  \n",
      "4       0      1893      \\N              1              Comedy,Short  \n"
     ]
    }
   ],
   "source": [
    "# Path to your .tsv.gz file\n",
    "file_path = 'IMDb title basics.tsv.gz'\n",
    "\n",
    "# Read the .tsv.gz file into a DataFrame\n",
    "df3 = pd.read_csv(file_path, sep='\\t', compression='gzip')\n",
    "\n",
    "# Display the first few rows of the DataFrame\n",
    "print(df3.head())"
   ]
  },
  {
   "cell_type": "code",
   "execution_count": 5,
   "metadata": {},
   "outputs": [
    {
     "name": "stdout",
     "output_type": "stream",
     "text": [
      "(10771014, 8)\n"
     ]
    },
    {
     "data": {
      "text/html": [
       "<div>\n",
       "<style scoped>\n",
       "    .dataframe tbody tr th:only-of-type {\n",
       "        vertical-align: middle;\n",
       "    }\n",
       "\n",
       "    .dataframe tbody tr th {\n",
       "        vertical-align: top;\n",
       "    }\n",
       "\n",
       "    .dataframe thead th {\n",
       "        text-align: right;\n",
       "    }\n",
       "</style>\n",
       "<table border=\"1\" class=\"dataframe\">\n",
       "  <thead>\n",
       "    <tr style=\"text-align: right;\">\n",
       "      <th></th>\n",
       "      <th>parentTconst</th>\n",
       "      <th>ordering</th>\n",
       "      <th>title</th>\n",
       "      <th>region</th>\n",
       "      <th>language</th>\n",
       "      <th>types</th>\n",
       "      <th>attributes</th>\n",
       "      <th>isOriginalTitle</th>\n",
       "    </tr>\n",
       "  </thead>\n",
       "  <tbody>\n",
       "    <tr>\n",
       "      <th>0</th>\n",
       "      <td>tt0000001</td>\n",
       "      <td>1</td>\n",
       "      <td>Carmencita</td>\n",
       "      <td>\\N</td>\n",
       "      <td>\\N</td>\n",
       "      <td>original</td>\n",
       "      <td>\\N</td>\n",
       "      <td>1</td>\n",
       "    </tr>\n",
       "    <tr>\n",
       "      <th>8</th>\n",
       "      <td>tt0000002</td>\n",
       "      <td>1</td>\n",
       "      <td>Le clown et ses chiens</td>\n",
       "      <td>\\N</td>\n",
       "      <td>\\N</td>\n",
       "      <td>original</td>\n",
       "      <td>\\N</td>\n",
       "      <td>1</td>\n",
       "    </tr>\n",
       "    <tr>\n",
       "      <th>16</th>\n",
       "      <td>tt0000003</td>\n",
       "      <td>1</td>\n",
       "      <td>Pauvre Pierrot</td>\n",
       "      <td>\\N</td>\n",
       "      <td>\\N</td>\n",
       "      <td>original</td>\n",
       "      <td>\\N</td>\n",
       "      <td>1</td>\n",
       "    </tr>\n",
       "    <tr>\n",
       "      <th>25</th>\n",
       "      <td>tt0000004</td>\n",
       "      <td>1</td>\n",
       "      <td>Un bon bock</td>\n",
       "      <td>\\N</td>\n",
       "      <td>\\N</td>\n",
       "      <td>original</td>\n",
       "      <td>\\N</td>\n",
       "      <td>1</td>\n",
       "    </tr>\n",
       "    <tr>\n",
       "      <th>33</th>\n",
       "      <td>tt0000005</td>\n",
       "      <td>1</td>\n",
       "      <td>Blacksmith Scene</td>\n",
       "      <td>\\N</td>\n",
       "      <td>\\N</td>\n",
       "      <td>original</td>\n",
       "      <td>\\N</td>\n",
       "      <td>1</td>\n",
       "    </tr>\n",
       "  </tbody>\n",
       "</table>\n",
       "</div>"
      ],
      "text/plain": [
       "   parentTconst  ordering                   title region language     types  \\\n",
       "0     tt0000001         1              Carmencita     \\N       \\N  original   \n",
       "8     tt0000002         1  Le clown et ses chiens     \\N       \\N  original   \n",
       "16    tt0000003         1          Pauvre Pierrot     \\N       \\N  original   \n",
       "25    tt0000004         1             Un bon bock     \\N       \\N  original   \n",
       "33    tt0000005         1        Blacksmith Scene     \\N       \\N  original   \n",
       "\n",
       "   attributes  isOriginalTitle  \n",
       "0          \\N                1  \n",
       "8          \\N                1  \n",
       "16         \\N                1  \n",
       "25         \\N                1  \n",
       "33         \\N                1  "
      ]
     },
     "execution_count": 5,
     "metadata": {},
     "output_type": "execute_result"
    }
   ],
   "source": [
    "# Path to your .tsv.gz file\n",
    "file_path = 'IMDb title akas.tsv.gz'\n",
    "\n",
    "# Read the .tsv.gz file into a DataFrame\n",
    "df4 = pd.read_csv(file_path, sep='\\t', compression='gzip')\n",
    "\n",
    "# change name of column 'titleId' to 'parentTconst'\n",
    "df4 = df4.rename(columns={'titleId': 'parentTconst'})\n",
    "\n",
    "# keep only rows where 'isOriginalTitle' is '1'\n",
    "df4 = df4[df4['isOriginalTitle'] == 1]\n",
    "\n",
    "print(df4.shape)\n",
    "df4.head()"
   ]
  },
  {
   "cell_type": "markdown",
   "metadata": {},
   "source": [
    "## Merge"
   ]
  },
  {
   "cell_type": "code",
   "execution_count": 6,
   "metadata": {},
   "outputs": [
    {
     "name": "stdout",
     "output_type": "stream",
     "text": [
      "(719537, 6)\n",
      "      tconst parentTconst seasonNumber episodeNumber  averageRating  numVotes\n",
      "0  tt0041951    tt0041038            1             9            7.6        90\n",
      "1  tt0042816    tt0989125            1            17            7.6        12\n",
      "2  tt0044093    tt0959862            1             6            4.5        18\n",
      "3  tt0045960    tt0044284            2             3            6.9       192\n",
      "4  tt0046150    tt0341798           \\N            \\N            8.2        12\n"
     ]
    }
   ],
   "source": [
    "# Merge df1 and df2 on the 'tconst' column\n",
    "merged_df = pd.merge(df1, df2, on='tconst', how='inner')\n",
    "print(merged_df.shape)\n",
    "print(merged_df.head())"
   ]
  },
  {
   "cell_type": "code",
   "execution_count": 7,
   "metadata": {},
   "outputs": [
    {
     "name": "stdout",
     "output_type": "stream",
     "text": [
      "(719537, 14)\n",
      "      tconst parentTconst seasonNumber episodeNumber  averageRating  numVotes  \\\n",
      "0  tt0041951    tt0041038            1             9            7.6        90   \n",
      "1  tt0042816    tt0989125            1            17            7.6        12   \n",
      "2  tt0044093    tt0959862            1             6            4.5        18   \n",
      "3  tt0045960    tt0044284            2             3            6.9       192   \n",
      "4  tt0046150    tt0341798           \\N            \\N            8.2        12   \n",
      "\n",
      "   titleType          primaryTitle         originalTitle isAdult startYear  \\\n",
      "0  tvEpisode        The Tenderfeet        The Tenderfeet       0      1949   \n",
      "1  tvEpisode               Othello               Othello       0      1950   \n",
      "2  tvEpisode  The Three Musketeers  The Three Musketeers       0      1950   \n",
      "3  tvEpisode             King Lear             King Lear       0      1953   \n",
      "4  tvEpisode               Othello               Othello       0      1953   \n",
      "\n",
      "  endYear runtimeMinutes               genres  \n",
      "0      \\N             30              Western  \n",
      "1      \\N            135                Drama  \n",
      "2      \\N             60                Drama  \n",
      "3      \\N             75  Drama,History,Music  \n",
      "4      \\N             84                Drama  \n"
     ]
    }
   ],
   "source": [
    "#merge df3 with merged_df on the 'tconst' column\n",
    "merged_df = pd.merge(merged_df, df3, on='tconst', how='inner')\n",
    "print(merged_df.shape)\n",
    "print(merged_df.head())"
   ]
  },
  {
   "cell_type": "code",
   "execution_count": 8,
   "metadata": {},
   "outputs": [
    {
     "name": "stdout",
     "output_type": "stream",
     "text": [
      "(718795, 21)\n"
     ]
    },
    {
     "data": {
      "text/html": [
       "<div>\n",
       "<style scoped>\n",
       "    .dataframe tbody tr th:only-of-type {\n",
       "        vertical-align: middle;\n",
       "    }\n",
       "\n",
       "    .dataframe tbody tr th {\n",
       "        vertical-align: top;\n",
       "    }\n",
       "\n",
       "    .dataframe thead th {\n",
       "        text-align: right;\n",
       "    }\n",
       "</style>\n",
       "<table border=\"1\" class=\"dataframe\">\n",
       "  <thead>\n",
       "    <tr style=\"text-align: right;\">\n",
       "      <th></th>\n",
       "      <th>tconst</th>\n",
       "      <th>parentTconst</th>\n",
       "      <th>seasonNumber</th>\n",
       "      <th>episodeNumber</th>\n",
       "      <th>averageRating</th>\n",
       "      <th>numVotes</th>\n",
       "      <th>titleType</th>\n",
       "      <th>primaryTitle</th>\n",
       "      <th>originalTitle</th>\n",
       "      <th>isAdult</th>\n",
       "      <th>...</th>\n",
       "      <th>endYear</th>\n",
       "      <th>runtimeMinutes</th>\n",
       "      <th>genres</th>\n",
       "      <th>ordering</th>\n",
       "      <th>title</th>\n",
       "      <th>region</th>\n",
       "      <th>language</th>\n",
       "      <th>types</th>\n",
       "      <th>attributes</th>\n",
       "      <th>isOriginalTitle</th>\n",
       "    </tr>\n",
       "  </thead>\n",
       "  <tbody>\n",
       "    <tr>\n",
       "      <th>0</th>\n",
       "      <td>tt0041951</td>\n",
       "      <td>tt0041038</td>\n",
       "      <td>1</td>\n",
       "      <td>9</td>\n",
       "      <td>7.6</td>\n",
       "      <td>90</td>\n",
       "      <td>tvEpisode</td>\n",
       "      <td>The Tenderfeet</td>\n",
       "      <td>The Tenderfeet</td>\n",
       "      <td>0</td>\n",
       "      <td>...</td>\n",
       "      <td>\\N</td>\n",
       "      <td>30</td>\n",
       "      <td>Western</td>\n",
       "      <td>1</td>\n",
       "      <td>The Lone Ranger</td>\n",
       "      <td>\\N</td>\n",
       "      <td>\\N</td>\n",
       "      <td>original</td>\n",
       "      <td>\\N</td>\n",
       "      <td>1</td>\n",
       "    </tr>\n",
       "    <tr>\n",
       "      <th>1</th>\n",
       "      <td>tt0635319</td>\n",
       "      <td>tt0041038</td>\n",
       "      <td>4</td>\n",
       "      <td>13</td>\n",
       "      <td>8.4</td>\n",
       "      <td>44</td>\n",
       "      <td>tvEpisode</td>\n",
       "      <td>A Broken Match</td>\n",
       "      <td>A Broken Match</td>\n",
       "      <td>0</td>\n",
       "      <td>...</td>\n",
       "      <td>\\N</td>\n",
       "      <td>23</td>\n",
       "      <td>Western</td>\n",
       "      <td>1</td>\n",
       "      <td>The Lone Ranger</td>\n",
       "      <td>\\N</td>\n",
       "      <td>\\N</td>\n",
       "      <td>original</td>\n",
       "      <td>\\N</td>\n",
       "      <td>1</td>\n",
       "    </tr>\n",
       "    <tr>\n",
       "      <th>2</th>\n",
       "      <td>tt0635320</td>\n",
       "      <td>tt0041038</td>\n",
       "      <td>5</td>\n",
       "      <td>21</td>\n",
       "      <td>8.9</td>\n",
       "      <td>47</td>\n",
       "      <td>tvEpisode</td>\n",
       "      <td>A Harp for Hannah</td>\n",
       "      <td>A Harp for Hannah</td>\n",
       "      <td>0</td>\n",
       "      <td>...</td>\n",
       "      <td>\\N</td>\n",
       "      <td>23</td>\n",
       "      <td>Western</td>\n",
       "      <td>1</td>\n",
       "      <td>The Lone Ranger</td>\n",
       "      <td>\\N</td>\n",
       "      <td>\\N</td>\n",
       "      <td>original</td>\n",
       "      <td>\\N</td>\n",
       "      <td>1</td>\n",
       "    </tr>\n",
       "    <tr>\n",
       "      <th>3</th>\n",
       "      <td>tt0635321</td>\n",
       "      <td>tt0041038</td>\n",
       "      <td>1</td>\n",
       "      <td>41</td>\n",
       "      <td>7.7</td>\n",
       "      <td>63</td>\n",
       "      <td>tvEpisode</td>\n",
       "      <td>A Pardon for Curley</td>\n",
       "      <td>A Pardon for Curley</td>\n",
       "      <td>0</td>\n",
       "      <td>...</td>\n",
       "      <td>\\N</td>\n",
       "      <td>23</td>\n",
       "      <td>Western</td>\n",
       "      <td>1</td>\n",
       "      <td>The Lone Ranger</td>\n",
       "      <td>\\N</td>\n",
       "      <td>\\N</td>\n",
       "      <td>original</td>\n",
       "      <td>\\N</td>\n",
       "      <td>1</td>\n",
       "    </tr>\n",
       "    <tr>\n",
       "      <th>4</th>\n",
       "      <td>tt0635322</td>\n",
       "      <td>tt0041038</td>\n",
       "      <td>3</td>\n",
       "      <td>27</td>\n",
       "      <td>7.6</td>\n",
       "      <td>37</td>\n",
       "      <td>tvEpisode</td>\n",
       "      <td>A Stage for Mademoiselle</td>\n",
       "      <td>A Stage for Mademoiselle</td>\n",
       "      <td>0</td>\n",
       "      <td>...</td>\n",
       "      <td>\\N</td>\n",
       "      <td>23</td>\n",
       "      <td>Western</td>\n",
       "      <td>1</td>\n",
       "      <td>The Lone Ranger</td>\n",
       "      <td>\\N</td>\n",
       "      <td>\\N</td>\n",
       "      <td>original</td>\n",
       "      <td>\\N</td>\n",
       "      <td>1</td>\n",
       "    </tr>\n",
       "  </tbody>\n",
       "</table>\n",
       "<p>5 rows × 21 columns</p>\n",
       "</div>"
      ],
      "text/plain": [
       "      tconst parentTconst seasonNumber episodeNumber  averageRating  numVotes  \\\n",
       "0  tt0041951    tt0041038            1             9            7.6        90   \n",
       "1  tt0635319    tt0041038            4            13            8.4        44   \n",
       "2  tt0635320    tt0041038            5            21            8.9        47   \n",
       "3  tt0635321    tt0041038            1            41            7.7        63   \n",
       "4  tt0635322    tt0041038            3            27            7.6        37   \n",
       "\n",
       "   titleType              primaryTitle             originalTitle isAdult  ...  \\\n",
       "0  tvEpisode            The Tenderfeet            The Tenderfeet       0  ...   \n",
       "1  tvEpisode            A Broken Match            A Broken Match       0  ...   \n",
       "2  tvEpisode         A Harp for Hannah         A Harp for Hannah       0  ...   \n",
       "3  tvEpisode       A Pardon for Curley       A Pardon for Curley       0  ...   \n",
       "4  tvEpisode  A Stage for Mademoiselle  A Stage for Mademoiselle       0  ...   \n",
       "\n",
       "  endYear runtimeMinutes   genres ordering            title region language  \\\n",
       "0      \\N             30  Western        1  The Lone Ranger     \\N       \\N   \n",
       "1      \\N             23  Western        1  The Lone Ranger     \\N       \\N   \n",
       "2      \\N             23  Western        1  The Lone Ranger     \\N       \\N   \n",
       "3      \\N             23  Western        1  The Lone Ranger     \\N       \\N   \n",
       "4      \\N             23  Western        1  The Lone Ranger     \\N       \\N   \n",
       "\n",
       "      types attributes isOriginalTitle  \n",
       "0  original         \\N               1  \n",
       "1  original         \\N               1  \n",
       "2  original         \\N               1  \n",
       "3  original         \\N               1  \n",
       "4  original         \\N               1  \n",
       "\n",
       "[5 rows x 21 columns]"
      ]
     },
     "execution_count": 8,
     "metadata": {},
     "output_type": "execute_result"
    }
   ],
   "source": [
    "#merge df4 with merged_df on the 'tconst' column\n",
    "merged_df = pd.merge(merged_df, df4, on='parentTconst', how='inner')\n",
    "print(merged_df.shape)\n",
    "merged_df.head()"
   ]
  },
  {
   "cell_type": "code",
   "execution_count": 9,
   "metadata": {},
   "outputs": [
    {
     "name": "stdout",
     "output_type": "stream",
     "text": [
      "        Column Name  First Row Value\n",
      "0            tconst        tt0041951\n",
      "1      parentTconst        tt0041038\n",
      "2      seasonNumber                1\n",
      "3     episodeNumber                9\n",
      "4     averageRating              7.6\n",
      "5          numVotes               90\n",
      "6         titleType        tvEpisode\n",
      "7      primaryTitle   The Tenderfeet\n",
      "8     originalTitle   The Tenderfeet\n",
      "9           isAdult                0\n",
      "10        startYear             1949\n",
      "11          endYear               \\N\n",
      "12   runtimeMinutes               30\n",
      "13           genres          Western\n",
      "14         ordering                1\n",
      "15            title  The Lone Ranger\n",
      "16           region               \\N\n",
      "17         language               \\N\n",
      "18            types         original\n",
      "19       attributes               \\N\n",
      "20  isOriginalTitle                1\n"
     ]
    }
   ],
   "source": [
    "# Extract the first row\n",
    "first_row = merged_df.iloc[0]\n",
    "\n",
    "# Convert the first row to a new DataFrame\n",
    "new_df = pd.DataFrame(first_row).reset_index()\n",
    "new_df.columns = ['Column Name', 'First Row Value']\n",
    "\n",
    "print(new_df)"
   ]
  },
  {
   "cell_type": "markdown",
   "metadata": {},
   "source": [
    "## Export"
   ]
  },
  {
   "cell_type": "code",
   "execution_count": 10,
   "metadata": {},
   "outputs": [],
   "source": [
    "filename = 'merged_imdb_data.csv'\n",
    "\n",
    "# Construct the path to the data folder outside the notebooks folder\n",
    "data_folder = os.path.join('..', 'data')\n",
    "os.makedirs(data_folder, exist_ok=True)\n",
    "\n",
    "# Export tvshow_df as a CSV file into the data folder\n",
    "file_path = os.path.join(data_folder, filename)\n",
    "merged_df.to_csv(file_path, index=False)\n",
    "\n",
    "print(f\"File saved to {file_path}\")"
   ]
  }
 ],
 "metadata": {
  "kernelspec": {
   "display_name": "base",
   "language": "python",
   "name": "python3"
  },
  "language_info": {
   "codemirror_mode": {
    "name": "ipython",
    "version": 3
   },
   "file_extension": ".py",
   "mimetype": "text/x-python",
   "name": "python",
   "nbconvert_exporter": "python",
   "pygments_lexer": "ipython3",
   "version": "3.9.13"
  }
 },
 "nbformat": 4,
 "nbformat_minor": 2
}
