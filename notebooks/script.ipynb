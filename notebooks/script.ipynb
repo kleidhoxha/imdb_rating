{
 "cells": [
  {
   "cell_type": "markdown",
   "metadata": {},
   "source": [
    "# Create organized IMDB dataset\n",
    "\n",
    "In this notebook, we will clean up the bigger IMDB dataset and create a organized csv file for future use\n",
    "\n",
    "## Loading the Library"
   ]
  },
  {
   "cell_type": "code",
   "execution_count": 6,
   "metadata": {},
   "outputs": [],
   "source": [
    "import pandas as pd\n",
    "import os"
   ]
  },
  {
   "cell_type": "markdown",
   "metadata": {},
   "source": [
    "## Loading the Data\n",
    "\n",
    "The following code loads the dataset into a DataFrame and displays the first few rows."
   ]
  },
  {
   "cell_type": "code",
   "execution_count": 2,
   "metadata": {},
   "outputs": [
    {
     "name": "stderr",
     "output_type": "stream",
     "text": [
      "/var/folders/rm/dnyhsnfd6ll4tl6sg03cj7t80000gn/T/ipykernel_71950/166840253.py:2: DtypeWarning: Columns (10) have mixed types. Specify dtype option on import or set low_memory=False.\n",
      "  df = pd.read_csv('../data/merged_imdb_data.csv') #load the data\n"
     ]
    },
    {
     "name": "stdout",
     "output_type": "stream",
     "text": [
      "(718795, 12)\n"
     ]
    },
    {
     "data": {
      "text/html": [
       "<div>\n",
       "<style scoped>\n",
       "    .dataframe tbody tr th:only-of-type {\n",
       "        vertical-align: middle;\n",
       "    }\n",
       "\n",
       "    .dataframe tbody tr th {\n",
       "        vertical-align: top;\n",
       "    }\n",
       "\n",
       "    .dataframe thead th {\n",
       "        text-align: right;\n",
       "    }\n",
       "</style>\n",
       "<table border=\"1\" class=\"dataframe\">\n",
       "  <thead>\n",
       "    <tr style=\"text-align: right;\">\n",
       "      <th></th>\n",
       "      <th>episode_id</th>\n",
       "      <th>show_id</th>\n",
       "      <th>season</th>\n",
       "      <th>episode</th>\n",
       "      <th>rating</th>\n",
       "      <th>votes</th>\n",
       "      <th>episode_title</th>\n",
       "      <th>is_adult</th>\n",
       "      <th>year</th>\n",
       "      <th>runtime_minutes</th>\n",
       "      <th>genre</th>\n",
       "      <th>show_title</th>\n",
       "    </tr>\n",
       "  </thead>\n",
       "  <tbody>\n",
       "    <tr>\n",
       "      <th>0</th>\n",
       "      <td>tt0041951</td>\n",
       "      <td>tt0041038</td>\n",
       "      <td>1</td>\n",
       "      <td>9</td>\n",
       "      <td>7.6</td>\n",
       "      <td>90</td>\n",
       "      <td>The Tenderfeet</td>\n",
       "      <td>0</td>\n",
       "      <td>1949</td>\n",
       "      <td>30</td>\n",
       "      <td>Western</td>\n",
       "      <td>The Lone Ranger</td>\n",
       "    </tr>\n",
       "    <tr>\n",
       "      <th>1</th>\n",
       "      <td>tt0635319</td>\n",
       "      <td>tt0041038</td>\n",
       "      <td>4</td>\n",
       "      <td>13</td>\n",
       "      <td>8.4</td>\n",
       "      <td>44</td>\n",
       "      <td>A Broken Match</td>\n",
       "      <td>0</td>\n",
       "      <td>1954</td>\n",
       "      <td>23</td>\n",
       "      <td>Western</td>\n",
       "      <td>The Lone Ranger</td>\n",
       "    </tr>\n",
       "    <tr>\n",
       "      <th>2</th>\n",
       "      <td>tt0635320</td>\n",
       "      <td>tt0041038</td>\n",
       "      <td>5</td>\n",
       "      <td>21</td>\n",
       "      <td>8.9</td>\n",
       "      <td>47</td>\n",
       "      <td>A Harp for Hannah</td>\n",
       "      <td>0</td>\n",
       "      <td>1957</td>\n",
       "      <td>23</td>\n",
       "      <td>Western</td>\n",
       "      <td>The Lone Ranger</td>\n",
       "    </tr>\n",
       "    <tr>\n",
       "      <th>3</th>\n",
       "      <td>tt0635321</td>\n",
       "      <td>tt0041038</td>\n",
       "      <td>1</td>\n",
       "      <td>41</td>\n",
       "      <td>7.7</td>\n",
       "      <td>63</td>\n",
       "      <td>A Pardon for Curley</td>\n",
       "      <td>0</td>\n",
       "      <td>1950</td>\n",
       "      <td>23</td>\n",
       "      <td>Western</td>\n",
       "      <td>The Lone Ranger</td>\n",
       "    </tr>\n",
       "    <tr>\n",
       "      <th>4</th>\n",
       "      <td>tt0635322</td>\n",
       "      <td>tt0041038</td>\n",
       "      <td>3</td>\n",
       "      <td>27</td>\n",
       "      <td>7.6</td>\n",
       "      <td>37</td>\n",
       "      <td>A Stage for Mademoiselle</td>\n",
       "      <td>0</td>\n",
       "      <td>1953</td>\n",
       "      <td>23</td>\n",
       "      <td>Western</td>\n",
       "      <td>The Lone Ranger</td>\n",
       "    </tr>\n",
       "  </tbody>\n",
       "</table>\n",
       "</div>"
      ],
      "text/plain": [
       "  episode_id    show_id season episode  rating  votes  \\\n",
       "0  tt0041951  tt0041038      1       9     7.6     90   \n",
       "1  tt0635319  tt0041038      4      13     8.4     44   \n",
       "2  tt0635320  tt0041038      5      21     8.9     47   \n",
       "3  tt0635321  tt0041038      1      41     7.7     63   \n",
       "4  tt0635322  tt0041038      3      27     7.6     37   \n",
       "\n",
       "              episode_title  is_adult  year runtime_minutes    genre  \\\n",
       "0            The Tenderfeet         0  1949              30  Western   \n",
       "1            A Broken Match         0  1954              23  Western   \n",
       "2         A Harp for Hannah         0  1957              23  Western   \n",
       "3       A Pardon for Curley         0  1950              23  Western   \n",
       "4  A Stage for Mademoiselle         0  1953              23  Western   \n",
       "\n",
       "        show_title  \n",
       "0  The Lone Ranger  \n",
       "1  The Lone Ranger  \n",
       "2  The Lone Ranger  \n",
       "3  The Lone Ranger  \n",
       "4  The Lone Ranger  "
      ]
     },
     "execution_count": 2,
     "metadata": {},
     "output_type": "execute_result"
    }
   ],
   "source": [
    "#load the data, get rid of unnecessary columns, and remove the 'tt' from the tconst and parentTconst columns\n",
    "df = pd.read_csv('../data/merged_imdb_data.csv') #load the data\n",
    "\n",
    "df = df.drop(columns=['endYear', 'originalTitle','ordering', 'region', 'attributes', 'isOriginalTitle', 'language', 'types', 'titleType']) #drop unnecessary columns\n",
    "\n",
    "df = df.rename(columns={\n",
    "    'tconst': 'episode_id',\n",
    "    'parentTconst': 'show_id',\n",
    "    'seasonNumber': 'season',\n",
    "    'episodeNumber': 'episode',\n",
    "    'averageRating': 'rating',\n",
    "    'numVotes': 'votes',\n",
    "    'startYear': 'year',\n",
    "    'title': 'show_title',\n",
    "    'runtimeMinutes': 'runtime_minutes',\n",
    "    'primaryTitle': 'episode_title',\n",
    "    'genres': 'genre',\n",
    "    'isAdult': 'is_adult',\n",
    "})\n",
    "\n",
    "print(df.shape) #print the shape of the dataframe\n",
    "df.head() #`print the first 5 rows of the dataframe"
   ]
  },
  {
   "cell_type": "markdown",
   "metadata": {},
   "source": [
    "### Checking missing or wrong values"
   ]
  },
  {
   "cell_type": "code",
   "execution_count": null,
   "metadata": {},
   "outputs": [],
   "source": [
    "print(df['is_adult'].value_counts())\n",
    "\n",
    "\n",
    "# Get rows where 'isAdult' column has values different from 0 or 1\n",
    "df_invalid_isAdult = df[~df['is_adult'].isin([0, 1])]\n",
    "df_invalid_isAdult.head()"
   ]
  },
  {
   "cell_type": "markdown",
   "metadata": {},
   "source": [
    "## Data Cleaning\n",
    "\n",
    "Next, we will clean the data by handling missing values and removing duplicates."
   ]
  },
  {
   "cell_type": "code",
   "execution_count": 3,
   "metadata": {},
   "outputs": [
    {
     "data": {
      "text/plain": [
       "episode_id          object\n",
       "show_id             object\n",
       "season               Int64\n",
       "episode              Int64\n",
       "rating             float64\n",
       "votes                Int64\n",
       "episode_title       object\n",
       "is_adult           boolean\n",
       "year                 Int64\n",
       "runtime_minutes      Int64\n",
       "genre               object\n",
       "show_title          object\n",
       "dtype: object"
      ]
     },
     "execution_count": 3,
     "metadata": {},
     "output_type": "execute_result"
    }
   ],
   "source": [
    "df_new = df.copy()\n",
    "\n",
    "# Convert the data types of the columns to the correct data type\n",
    "df_new['episode_id'] = df_new['episode_id'].astype(str)\n",
    "df_new['show_id'] = df_new['show_id'].astype(str)\n",
    "df_new['episode_title'] = df_new['episode_title'].astype(str)  \n",
    "df_new['show_title'] = df_new['show_title'].astype(str)\n",
    "\n",
    "# Convert to numeric and handle NaN values\n",
    "df_new['season'] = pd.to_numeric(df_new['season'], errors='coerce').fillna(pd.NA).astype('Int64')\n",
    "df_new['episode'] = pd.to_numeric(df_new['episode'], errors='coerce').fillna(pd.NA).astype('Int64')\n",
    "df_new['votes'] = pd.to_numeric(df_new['votes'], errors='coerce').fillna(pd.NA).astype('Int64')\n",
    "df_new['runtime_minutes'] = pd.to_numeric(df_new['runtime_minutes'], errors='coerce').fillna(pd.NA).astype('Int64')\n",
    "df_new['rating'] = pd.to_numeric(df_new['rating'], errors='coerce').fillna(pd.NA).astype(float)\n",
    "df_new['year'] = pd.to_numeric(df_new['year'], errors='coerce').fillna(pd.NA).astype('Int64')\n",
    "\n",
    "# Handle non-boolean values in 'is_adult' and convert to boolean\n",
    "df_new.loc[~df_new['is_adult'].isin([0, 1]), 'is_adult'] = pd.NA\n",
    "df_new['is_adult'] = df_new['is_adult'].astype('boolean')\n",
    "\n",
    "df_new.dtypes"
   ]
  },
  {
   "cell_type": "code",
   "execution_count": null,
   "metadata": {},
   "outputs": [],
   "source": [
    "print(df_new['is_adult'].unique())\n",
    "\n",
    "# Get rows where 'isAdult' column has values different from 0 or 1\n",
    "df_invalid_isAdult = df_new[~df_new['is_adult'].isin([0, 1])]\n",
    "df_invalid_isAdult.head()"
   ]
  },
  {
   "cell_type": "markdown",
   "metadata": {},
   "source": [
    "## Final Summary\n",
    "\n",
    "The column names and the values of the first row"
   ]
  },
  {
   "cell_type": "code",
   "execution_count": 4,
   "metadata": {},
   "outputs": [
    {
     "name": "stdout",
     "output_type": "stream",
     "text": [
      "        Column Name  First Row Value\n",
      "0        episode_id        tt0041951\n",
      "1           show_id        tt0041038\n",
      "2            season                1\n",
      "3           episode                9\n",
      "4            rating              7.6\n",
      "5             votes               90\n",
      "6     episode_title   The Tenderfeet\n",
      "7          is_adult            False\n",
      "8              year             1949\n",
      "9   runtime_minutes               30\n",
      "10            genre          Western\n",
      "11       show_title  The Lone Ranger\n"
     ]
    }
   ],
   "source": [
    "# Extract the first row\n",
    "first_row = df_new.iloc[0]\n",
    "\n",
    "# Convert the first row to a new DataFrame\n",
    "summary_df = pd.DataFrame(first_row).reset_index()\n",
    "summary_df.columns = ['Column Name', 'First Row Value']\n",
    "\n",
    "print(summary_df)\n",
    "del summary_df"
   ]
  },
  {
   "cell_type": "markdown",
   "metadata": {},
   "source": [
    "## Export"
   ]
  },
  {
   "cell_type": "code",
   "execution_count": 7,
   "metadata": {},
   "outputs": [
    {
     "name": "stdout",
     "output_type": "stream",
     "text": [
      "File saved to ../data/organized_imdb_dataset.csv\n"
     ]
    }
   ],
   "source": [
    "filename = 'organized_imdb_dataset.csv'\n",
    "\n",
    "# Construct the path to the data folder outside the notebooks folder\n",
    "data_folder = os.path.join('..', 'data')\n",
    "os.makedirs(data_folder, exist_ok=True)\n",
    "\n",
    "# Export tvshow_df as a CSV file into the data folder\n",
    "file_path = os.path.join(data_folder, filename)\n",
    "df_new.to_csv(file_path, index=False)\n",
    "\n",
    "print(f\"File saved to {file_path}\")"
   ]
  }
 ],
 "metadata": {
  "kernelspec": {
   "display_name": "base",
   "language": "python",
   "name": "python3"
  },
  "language_info": {
   "codemirror_mode": {
    "name": "ipython",
    "version": 3
   },
   "file_extension": ".py",
   "mimetype": "text/x-python",
   "name": "python",
   "nbconvert_exporter": "python",
   "pygments_lexer": "ipython3",
   "version": "3.9.13"
  }
 },
 "nbformat": 4,
 "nbformat_minor": 2
}
